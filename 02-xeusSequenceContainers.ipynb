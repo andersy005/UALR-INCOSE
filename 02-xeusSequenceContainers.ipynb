{
 "cells": [
  {
   "cell_type": "markdown",
   "metadata": {
    "toc": true
   },
   "source": [
    "<h1>Table of Contents<span class=\"tocSkip\"></span></h1>\n",
    "<div class=\"toc\" style=\"margin-top: 1em;\"><ul class=\"toc-item\"><li><span><a href=\"#STL-Sequence-Containers\" data-toc-modified-id=\"STL-Sequence-Containers-1\"><span class=\"toc-item-num\">1&nbsp;&nbsp;</span>STL Sequence Containers</a></span><ul class=\"toc-item\"><li><span><a href=\"#Overview-of-STL\" data-toc-modified-id=\"Overview-of-STL-1.1\"><span class=\"toc-item-num\">1.1&nbsp;&nbsp;</span>Overview of STL</a></span></li><li><span><a href=\"#Vectors\" data-toc-modified-id=\"Vectors-1.2\"><span class=\"toc-item-num\">1.2&nbsp;&nbsp;</span>Vectors</a></span></li></ul></li></ul></div>"
   ]
  },
  {
   "cell_type": "markdown",
   "metadata": {},
   "source": [
    "# STL Sequence Containers"
   ]
  },
  {
   "cell_type": "markdown",
   "metadata": {},
   "source": [
    "<!-- PELICAN_BEGIN_SUMMARY -->\n",
    "\n",
    "The Standard Template Library (STL) is a programmer's dream. It offers efficient ways to:\n",
    "- store\n",
    "- access\n",
    "- manipulate\n",
    "- view data\n",
    "\n",
    "and is designed for maximum extensibility. Once a programmer has gotten over the initial syntax hurdles, they quickly learn to appreciate the STL's sheer power and flexibility. \n",
    "\n",
    "## Overview of STL\n",
    "\n",
    "![](https://i.imgur.com/zO1sozu.png)\n",
    "Source: CS106L-Stanford\n",
    "<!-- PELICAN_END_SUMMARY -->"
   ]
  },
  {
   "cell_type": "markdown",
   "metadata": {},
   "source": [
    "- **Containers:** a collection of container classes. For example:\n",
    " - `map:` an associative collection of key/value pairs\n",
    " - `vector:` a growing list of elements.\n",
    " \n",
    "- **Iterators:** objects that view and modify ranges of stored data. Each STL container exports iterators. Iterators have a common interface, allowing the programmer to write code that operates on data stored in arbitrary containers. \n",
    "\n",
    "- **Algorithms:** functions that operate over ranges of data specified by iterators. \n",
    "\n",
    "- **Adapters:** objects which transform an object from one form into another. For instance:\n",
    " - `stack` adapter transforms a regular vector or list into a LIFO (Last In First Out) container.\n",
    " - `istream_iterator` transforms a standard C++ stream inot an STL iterator.\n",
    " \n",
    "- **Functions:** facilities for creating and modifying functions at runtime.\n",
    "\n",
    "- **Allocators:** allow clients of the container classes to customize how memory is allocated and deallocated, either for diagnostic or performance reasons. "
   ]
  },
  {
   "cell_type": "markdown",
   "metadata": {},
   "source": [
    "## Vectors"
   ]
  },
  {
   "cell_type": "markdown",
   "metadata": {},
   "source": [
    "A **vector** is an object that represents a sequence of elements. The elements in a **vector** are indexed, meaning that they can have a well-defined position in the sequence. "
   ]
  },
  {
   "cell_type": "code",
   "execution_count": 1,
   "metadata": {},
   "outputs": [],
   "source": [
    "#include <iostream>\n",
    "#include <vector>  // Necessary to use vector\n",
    "#include <string>\n",
    "#include <sstream>"
   ]
  },
  {
   "cell_type": "code",
   "execution_count": 2,
   "metadata": {},
   "outputs": [],
   "source": [
    "// Create a vector containing integers\n",
    "std::vector<int> v = {7, 10, 15, 8, 98, 0};"
   ]
  },
  {
   "cell_type": "markdown",
   "metadata": {},
   "source": [
    "**Add two more integers to vector using `push_back()`**"
   ]
  },
  {
   "cell_type": "code",
   "execution_count": 3,
   "metadata": {},
   "outputs": [],
   "source": [
    "v.push_back(45);\n",
    "v.push_back(56);"
   ]
  },
  {
   "cell_type": "markdown",
   "metadata": {},
   "source": [
    "**Helper function to iterate and print values of vector**"
   ]
  },
  {
   "cell_type": "code",
   "execution_count": 4,
   "metadata": {},
   "outputs": [],
   "source": [
    "void PrintVector(std::vector<int>& v){\n",
    "    for(int n : v){\n",
    "        std::cout << n << ' ';\n",
    "        \n",
    "    }\n",
    "    \n",
    "    std::cout << std::endl;\n",
    "}"
   ]
  },
  {
   "cell_type": "code",
   "execution_count": 5,
   "metadata": {},
   "outputs": [
    {
     "name": "stdout",
     "output_type": "stream",
     "text": [
      "7 10 15 8 98 0 45 56 \n"
     ]
    }
   ],
   "source": [
    "PrintVector(v)"
   ]
  },
  {
   "cell_type": "markdown",
   "metadata": {},
   "source": [
    "The storage of the vector is handled automatically, being expanded and contracted as needed. Vectors usually occupy more space than static arrays, because more memory is allocated to handle future growth. This way a vector does not need to reallocate each time an element is inserted, but only when the additional memory is exhausted."
   ]
  },
  {
   "cell_type": "markdown",
   "metadata": {},
   "source": [
    "**Grow the vector, setting new elements to 0**"
   ]
  },
  {
   "cell_type": "code",
   "execution_count": 6,
   "metadata": {},
   "outputs": [
    {
     "name": "stdout",
     "output_type": "stream",
     "text": [
      "7 10 15 8 98 0 45 56 0 0 \n"
     ]
    }
   ],
   "source": [
    "v.resize(10);\n",
    "PrintVector(v)"
   ]
  },
  {
   "cell_type": "markdown",
   "metadata": {},
   "source": [
    " The total amount of allocated memory can be queried using `capacity()` function. Extra memory can be returned to the system via a call to `shrink_to_fit()`"
   ]
  },
  {
   "cell_type": "markdown",
   "metadata": {},
   "source": [
    "**`capacity()`: returns the number of element that can be held in currently allocated storage**"
   ]
  },
  {
   "cell_type": "code",
   "execution_count": 7,
   "metadata": {},
   "outputs": [
    {
     "name": "stdout",
     "output_type": "stream",
     "text": [
      "(unsigned long) 12\n"
     ]
    }
   ],
   "source": [
    "v.capacity()"
   ]
  },
  {
   "cell_type": "markdown",
   "metadata": {},
   "source": [
    "**`shrink_to_fit()`: reduces memory usage by freeing unused memory**"
   ]
  },
  {
   "cell_type": "code",
   "execution_count": 8,
   "metadata": {},
   "outputs": [],
   "source": [
    "v.shrink_to_fit()"
   ]
  },
  {
   "cell_type": "code",
   "execution_count": 9,
   "metadata": {},
   "outputs": [
    {
     "name": "stdout",
     "output_type": "stream",
     "text": [
      "(unsigned long) 10\n"
     ]
    }
   ],
   "source": [
    "v.capacity()"
   ]
  },
  {
   "cell_type": "markdown",
   "metadata": {},
   "source": [
    "**`resize()`: changes the number of elements stored**. E.g; Grow the vector, setting new elements to 100**"
   ]
  },
  {
   "cell_type": "code",
   "execution_count": 10,
   "metadata": {},
   "outputs": [
    {
     "name": "stdout",
     "output_type": "stream",
     "text": [
      "7 10 15 8 98 0 45 56 0 0 100 100 100 \n"
     ]
    }
   ],
   "source": [
    "v.resize(13, 100);\n",
    "PrintVector(v);"
   ]
  },
  {
   "cell_type": "code",
   "execution_count": 12,
   "metadata": {},
   "outputs": [
    {
     "name": "stdout",
     "output_type": "stream",
     "text": [
      "(unsigned long) 20\n"
     ]
    }
   ],
   "source": [
    "v.capacity()"
   ]
  },
  {
   "cell_type": "markdown",
   "metadata": {},
   "source": [
    "**`pop_back()`: removes the last element**"
   ]
  },
  {
   "cell_type": "code",
   "execution_count": 13,
   "metadata": {},
   "outputs": [
    {
     "name": "stdout",
     "output_type": "stream",
     "text": [
      "7 10 15 8 98 0 45 56 0 0 100 100 \n"
     ]
    }
   ],
   "source": [
    "v.pop_back();\n",
    "PrintVector(v);"
   ]
  },
  {
   "cell_type": "markdown",
   "metadata": {},
   "source": [
    "**NOTE:** for detailed information about `std::vector`, check out the [C++ reference](http://en.cppreference.com/w/cpp/container/vector)."
   ]
  },
  {
   "cell_type": "code",
   "execution_count": null,
   "metadata": {},
   "outputs": [],
   "source": []
  }
 ],
 "metadata": {
  "kernelspec": {
   "display_name": "xeus C++14",
   "language": "",
   "name": "xeus-cling-cpp14"
  },
  "language_info": {
   "codemirror_mode": "text/x-c++src",
   "file_extension": ".cpp",
   "mimetype": "text/x-c++src",
   "name": "c++",
   "version": ""
  },
  "toc": {
   "nav_menu": {},
   "number_sections": true,
   "sideBar": true,
   "skip_h1_title": false,
   "toc_cell": true,
   "toc_position": {},
   "toc_section_display": "block",
   "toc_window_display": false
  }
 },
 "nbformat": 4,
 "nbformat_minor": 2
}
